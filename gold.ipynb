{
 "cells": [
  {
   "cell_type": "code",
   "execution_count": 0,
   "metadata": {
    "application/vnd.databricks.v1+cell": {
     "cellMetadata": {
      "byteLimit": 2048000,
      "rowLimit": 10000
     },
     "inputWidgets": {},
     "nuid": "51a0b4fb-472b-4b8b-afe7-6e5884e4bc03",
     "showTitle": false,
     "tableResultSettingsMap": {},
     "title": ""
    }
   },
   "outputs": [],
   "source": [
    "from pyspark.sql import functions as F"
   ]
  },
  {
   "cell_type": "code",
   "execution_count": 0,
   "metadata": {
    "application/vnd.databricks.v1+cell": {
     "cellMetadata": {
      "byteLimit": 2048000,
      "rowLimit": 10000
     },
     "inputWidgets": {},
     "nuid": "264029bf-4f05-4698-9812-cfb0214d2011",
     "showTitle": false,
     "tableResultSettingsMap": {},
     "title": ""
    }
   },
   "outputs": [],
   "source": [
    "schema_path = \"dbfs:/FileStore/inventory_analytics\""
   ]
  },
  {
   "cell_type": "code",
   "execution_count": 0,
   "metadata": {
    "application/vnd.databricks.v1+cell": {
     "cellMetadata": {
      "byteLimit": 2048000,
      "rowLimit": 10000
     },
     "inputWidgets": {},
     "nuid": "eb91a294-44aa-47b5-a502-d5ede8ab7ce6",
     "showTitle": false,
     "tableResultSettingsMap": {},
     "title": ""
    }
   },
   "outputs": [],
   "source": [
    "purchase_df = spark.read.format(\"delta\").load(f\"{schema_path}/silver/product_purchase\")"
   ]
  },
  {
   "cell_type": "code",
   "execution_count": 0,
   "metadata": {
    "application/vnd.databricks.v1+cell": {
     "cellMetadata": {
      "byteLimit": 2048000,
      "rowLimit": 10000
     },
     "inputWidgets": {},
     "nuid": "9c760bb5-5f8a-4a61-8e18-28e7c47d8b1b",
     "showTitle": false,
     "tableResultSettingsMap": {},
     "title": ""
    }
   },
   "outputs": [],
   "source": [
    "daily_hourly_purchase = purchase_df\\\n",
    "    .withColumn(\"days_ago\", F.date_diff(F.current_timestamp(), F.col(\"timestamp\")))\\\n",
    "    .filter(\"days_ago < 14\")\\\n",
    "    .withColumn(\"hourly_timestamp\", F.date_trunc(\"hour\", F.col(\"timestamp\")))\\\n",
    "    .groupBy(\"pin_code\", \"product_id\", \"hourly_timestamp\")\\\n",
    "    .agg(F.sum(\"item_count\").alias(\"purchase_count\"))"
   ]
  },
  {
   "cell_type": "code",
   "execution_count": 0,
   "metadata": {
    "application/vnd.databricks.v1+cell": {
     "cellMetadata": {
      "byteLimit": 2048000,
      "rowLimit": 10000
     },
     "inputWidgets": {},
     "nuid": "bb8cc84f-c3af-483a-b178-38f9dca94b07",
     "showTitle": false,
     "tableResultSettingsMap": {},
     "title": ""
    }
   },
   "outputs": [],
   "source": [
    "weighted_hourly_avg_purchase_next_24_hour = daily_hourly_purchase\\\n",
    "    .withColumn(\"days_ago\", F.date_diff(F.current_timestamp(), F.col(\"hourly_timestamp\")))\\\n",
    "    .withColumn(\"weight\", 1-(F.col(\"days_ago\")/14))\\\n",
    "    .withColumn(\"weighted_purchase_count\", F.col(\"weight\")*F.col(\"purchase_count\"))\\\n",
    "    .withColumn(\"hour_of_day\", F.date_part(F.lit(\"hour\"), F.col(\"hourly_timestamp\"), ))\\\n",
    "    .groupBy(\"pin_code\", \"product_id\", \"hour_of_day\")\\\n",
    "    .agg(\n",
    "        F.sum(\"weighted_purchase_count\").alias(\"total_weighted_purchase_count\"),\n",
    "        F.sum(\"weight\").alias(\"total_weight\")\n",
    "    )\\\n",
    "    .withColumn(\"weighted_avg_purchase\", F.col(\"total_weighted_purchase_count\") / F.col(\"total_weight\"))\\\n",
    "    "
   ]
  },
  {
   "cell_type": "code",
   "execution_count": 0,
   "metadata": {
    "application/vnd.databricks.v1+cell": {
     "cellMetadata": {},
     "inputWidgets": {},
     "nuid": "4e070516-8884-485c-a32d-148223d36d20",
     "showTitle": false,
     "tableResultSettingsMap": {},
     "title": ""
    }
   },
   "outputs": [],
   "source": [
    "weighted_hourly_avg_purchase_next_24_hour.write.format(\"delta\").option(\"path\", f\"{schema_path}/gold/purchase_count\").save()"
   ]
  },
  {
   "cell_type": "markdown",
   "metadata": {
    "application/vnd.databricks.v1+cell": {
     "cellMetadata": {},
     "inputWidgets": {},
     "nuid": "09980ba9-3f30-4afd-b70b-3ccd0840859d",
     "showTitle": false,
     "tableResultSettingsMap": {},
     "title": ""
    }
   },
   "source": [
    "### click ratio"
   ]
  },
  {
   "cell_type": "code",
   "execution_count": 0,
   "metadata": {
    "application/vnd.databricks.v1+cell": {
     "cellMetadata": {
      "byteLimit": 2048000,
      "rowLimit": 10000
     },
     "inputWidgets": {},
     "nuid": "5d8f03bc-2d99-46c4-9af5-378c19cdeb79",
     "showTitle": false,
     "tableResultSettingsMap": {},
     "title": ""
    }
   },
   "outputs": [],
   "source": [
    "click_df = spark.read.format(\"delta\").load(f\"{schema_path}/silver/product_click\")"
   ]
  },
  {
   "cell_type": "code",
   "execution_count": 0,
   "metadata": {
    "application/vnd.databricks.v1+cell": {
     "cellMetadata": {},
     "inputWidgets": {},
     "nuid": "086bc175-0d8f-444f-a297-8e4742ca4444",
     "showTitle": false,
     "tableResultSettingsMap": {},
     "title": ""
    }
   },
   "outputs": [],
   "source": [
    "daily_hourly_click_last_14_days = click_df\\\n",
    "    .withColumn(\"days_ago\", F.date_diff(F.current_date(), F.col(\"timestamp\")))\\\n",
    "    .filter(\"days_ago < 14\")\\\n",
    "    .withColumn(\"hourly_timestamp\", F.date_trunc(\"hour\", F.col(\"timestamp\")))\\\n",
    "    .groupBy(\"pin_code\", \"product_id\", \"hourly_timestamp\")\\\n",
    "    .agg(F.count(\"*\").alias(\"click_count\"))"
   ]
  },
  {
   "cell_type": "code",
   "execution_count": 0,
   "metadata": {
    "application/vnd.databricks.v1+cell": {
     "cellMetadata": {},
     "inputWidgets": {},
     "nuid": "efed95f8-4590-4cbb-b376-bdfd7a66d7a3",
     "showTitle": false,
     "tableResultSettingsMap": {},
     "title": ""
    }
   },
   "outputs": [],
   "source": [
    "weighted_hourly_avg_click_14_days = daily_hourly_click_last_14_days\\\n",
    "    .withColumn(\"days_ago\", F.date_diff(F.current_timestamp(), \"hourly_timestamp\"))\\\n",
    "    .withCoulmn(\"weight\", 1-(F.col(\"days_ago\")/14))\\\n",
    "    .withColumn(\"avg_weighted_click\", F.col(\"click_count\")*F.col(\"weight\"))\\\n",
    "    .withColumn(\"hour_of_day\", F.date_part(F.lit(\"hour\"), F.col(\"hourly_timestamp\")))\\\n",
    "    .groupBy(\"pin_code\", \"product_id\", \"hour_of_day\")\\\n",
    "    .agg(\n",
    "        F.sum(\"weighted_click_count\").alias(\"total_weighted_click_count\"),\n",
    "        F.sum(\"weight\").alias(\"total_weight\")\n",
    "    )\\\n",
    "    .withColumn(\"weighted_avg_click\", F.col(\"total_weighted_click_count\") / F.col(\"total_weight\"))"
   ]
  },
  {
   "cell_type": "code",
   "execution_count": 0,
   "metadata": {
    "application/vnd.databricks.v1+cell": {
     "cellMetadata": {},
     "inputWidgets": {},
     "nuid": "01434334-cf64-4003-adde-c69470656932",
     "showTitle": false,
     "tableResultSettingsMap": {},
     "title": ""
    }
   },
   "outputs": [],
   "source": [
    "click_count_last_1_day = click_df\\\n",
    "    .filter(\"hourly_timestamp\" <= F.current_timestamp() - F.expr(\"INTERVAL 24 HOUR\"))\\\n",
    "    .withColumn(\"hour_of_day\", F.date_part(F.lit(\"hour\"), F.col(\"hourly_timestamp\")))\\\n",
    "    .groupBy(\"pin_code\", \"product_id\", \"hour_of_day\")\\\n",
    "    .agg(F.count(\"*\").alias(\"click_count\"))"
   ]
  },
  {
   "cell_type": "code",
   "execution_count": 0,
   "metadata": {
    "application/vnd.databricks.v1+cell": {
     "cellMetadata": {},
     "inputWidgets": {},
     "nuid": "09f823ff-fdf8-4d60-966b-acf80b44187c",
     "showTitle": false,
     "tableResultSettingsMap": {},
     "title": ""
    }
   },
   "outputs": [],
   "source": [
    "click_ratio = click_count_last_1_day.join(\n",
    "    weighted_hourly_avg_click_14_days.filter(\"weighted_avg_click > 0\"),\n",
    "    [\"pin_code\", \"product_id\", \"hour_of_day\"],\n",
    "    \"inner\"\n",
    "    ).withColumn(\"click_ratio\",\n",
    "                  click_count_last_1_day.click_count / weighted_hourly_avg_click_14_days.weighted_avg_click\n",
    "                 )"
   ]
  },
  {
   "cell_type": "code",
   "execution_count": 0,
   "metadata": {
    "application/vnd.databricks.v1+cell": {
     "cellMetadata": {},
     "inputWidgets": {},
     "nuid": "3d0b07dd-57fd-454b-af4c-73d6fb63dac3",
     "showTitle": false,
     "tableResultSettingsMap": {},
     "title": ""
    }
   },
   "outputs": [],
   "source": [
    "click_ratio.write.format(\"delta\").save(f\"{schema_path}/gold/click_ratio\")"
   ]
  },
  {
   "cell_type": "markdown",
   "metadata": {
    "application/vnd.databricks.v1+cell": {
     "cellMetadata": {},
     "inputWidgets": {},
     "nuid": "70a6ad32-5299-41d7-a311-fa66453bfbf3",
     "showTitle": false,
     "tableResultSettingsMap": {},
     "title": ""
    }
   },
   "source": [
    "### cart_ratio"
   ]
  },
  {
   "cell_type": "code",
   "execution_count": 0,
   "metadata": {
    "application/vnd.databricks.v1+cell": {
     "cellMetadata": {},
     "inputWidgets": {},
     "nuid": "4af0d05e-d967-46c1-b66c-45a56bca798c",
     "showTitle": false,
     "tableResultSettingsMap": {},
     "title": ""
    }
   },
   "outputs": [],
   "source": [
    "cart_df = spark.read.format(\"delta\").load(f\"{schema_path}/silver/product_cart\")"
   ]
  },
  {
   "cell_type": "code",
   "execution_count": 0,
   "metadata": {
    "application/vnd.databricks.v1+cell": {
     "cellMetadata": {},
     "inputWidgets": {},
     "nuid": "27250c86-1a0b-4f58-85c4-8585ce8d9625",
     "showTitle": false,
     "tableResultSettingsMap": {},
     "title": ""
    }
   },
   "outputs": [],
   "source": [
    "daily_hourly_cart_last_14_days = cart_df\\\n",
    "    .withColumn(\"days_ago\", F.date_diff(F.current_date(), F.col(\"timestamp\")))\\\n",
    "    .filter(\"days_ago < 14\")\\\n",
    "    .withColumn(\"hourly_timestamp\", F.date_trunc(\"hour\", F.col(\"timestamp\")))\\\n",
    "    .groupBy(\"pin_code\", \"product_id\", \"hourly_timestamp\")\\\n",
    "    .agg(F.count(\"*\").alias(\"cart_count\"))"
   ]
  },
  {
   "cell_type": "code",
   "execution_count": 0,
   "metadata": {
    "application/vnd.databricks.v1+cell": {
     "cellMetadata": {},
     "inputWidgets": {},
     "nuid": "6462aa5d-77f7-446f-8676-7e725b02760a",
     "showTitle": false,
     "tableResultSettingsMap": {},
     "title": ""
    }
   },
   "outputs": [],
   "source": [
    "weighted_hourly_avg_cart_14_days = daily_hourly_cart_last_14_days\\\n",
    "    .withColumn(\"days_ago\", F.date_diff(F.current_timestamp(), \"hourly_timestamp\"))\\\n",
    "    .withCoulmn(\"weight\", 1-(F.col(\"days_ago\")/14))\\\n",
    "    .withColumn(\"avg_weighted_click\", F.col(\"cart_count\")*F.col(\"weight\"))\\\n",
    "    .withColumn(\"hour_of_day\", F.date_part(F.lit(\"hour\"), F.col(\"hourly_timestamp\")))\\\n",
    "    .groupBy(\"pin_code\", \"product_id\", \"hour_of_day\")\\\n",
    "    .agg(\n",
    "        F.sum(\"weighted_cart_count\").alias(\"total_weighted_cart_count\"),\n",
    "        F.sum(\"weight\").alias(\"total_weight\")\n",
    "    )\\\n",
    "    .withColumn(\"weighted_avg_cart\", F.col(\"total_weighted_cart_count\") / F.col(\"total_weight\"))"
   ]
  },
  {
   "cell_type": "code",
   "execution_count": 0,
   "metadata": {
    "application/vnd.databricks.v1+cell": {
     "cellMetadata": {},
     "inputWidgets": {},
     "nuid": "56e82e82-bcde-4ba7-bf3e-f879d9df8186",
     "showTitle": false,
     "tableResultSettingsMap": {},
     "title": ""
    }
   },
   "outputs": [],
   "source": [
    "cart_count_last_1_day = cart_df\\\n",
    "    .filter(\"hourly_timestamp\" <= F.current_timestamp() - F.expr(\"INTERVAL 24 HOUR\"))\\\n",
    "    .withColumn(\"hour_of_day\", F.date_part(F.lit(\"hour\"), F.col(\"hourly_timestamp\")))\\\n",
    "    .groupBy(\"pin_code\", \"product_id\", \"hour_of_day\")\\\n",
    "    .agg(F.count(\"*\").alias(\"cart_count\"))"
   ]
  },
  {
   "cell_type": "code",
   "execution_count": 0,
   "metadata": {
    "application/vnd.databricks.v1+cell": {
     "cellMetadata": {},
     "inputWidgets": {},
     "nuid": "a041ef20-3f58-4b73-9158-c69cae0bcfc5",
     "showTitle": false,
     "tableResultSettingsMap": {},
     "title": ""
    }
   },
   "outputs": [],
   "source": [
    "cart_ratio = cart_count_last_1_day.join(\n",
    "    weighted_hourly_avg_click_14_days.filter(\"weighted_avg_cart > 0\"),\n",
    "    [\"pin_code\", \"product_id\", \"hour_of_day\"],\n",
    "    \"inner\"\n",
    "    ).withColumn(\"cart_ratio\",\n",
    "                cart_count_last_1_day.cart_count / weighted_hourly_avg_cart_14_days.weighted_avg_cart\n",
    "                 )"
   ]
  },
  {
   "cell_type": "code",
   "execution_count": 0,
   "metadata": {
    "application/vnd.databricks.v1+cell": {
     "cellMetadata": {},
     "inputWidgets": {},
     "nuid": "63162a79-f900-40c8-a7f0-cc96c3f56ab5",
     "showTitle": false,
     "tableResultSettingsMap": {},
     "title": ""
    }
   },
   "outputs": [],
   "source": [
    "cart_ratio.write.format(\"delta\").save(f\"{schema_path}/gold/cart_ratio\")"
   ]
  }
 ],
 "metadata": {
  "application/vnd.databricks.v1+notebook": {
   "computePreferences": null,
   "dashboards": [],
   "environmentMetadata": {
    "base_environment": "",
    "environment_version": "1"
   },
   "inputWidgetPreferences": null,
   "language": "python",
   "notebookMetadata": {
    "mostRecentlyExecutedCommandWithImplicitDF": {
     "commandId": 1335250333107123,
     "dataframes": [
      "_sqldf"
     ]
    },
    "pythonIndentUnit": 4
   },
   "notebookName": "gold",
   "widgets": {}
  }
 },
 "nbformat": 4,
 "nbformat_minor": 0
}