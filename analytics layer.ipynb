{
 "cells": [
  {
   "cell_type": "code",
   "execution_count": 0,
   "metadata": {
    "application/vnd.databricks.v1+cell": {
     "cellMetadata": {
      "byteLimit": 2048000,
      "rowLimit": 10000
     },
     "inputWidgets": {},
     "nuid": "bec8b732-1c02-4b0b-b343-4eb75a62a2aa",
     "showTitle": false,
     "tableResultSettingsMap": {},
     "title": ""
    }
   },
   "outputs": [],
   "source": [
    "from pyspark.sql import functions as F"
   ]
  },
  {
   "cell_type": "code",
   "execution_count": 0,
   "metadata": {
    "application/vnd.databricks.v1+cell": {
     "cellMetadata": {
      "byteLimit": 2048000,
      "rowLimit": 10000
     },
     "inputWidgets": {},
     "nuid": "a10a7c25-6c47-4898-9718-ca5202bd4e0a",
     "showTitle": false,
     "tableResultSettingsMap": {},
     "title": ""
    }
   },
   "outputs": [],
   "source": [
    "schema_path = \"dbfs:/FileStore/inventory_analytics\""
   ]
  },
  {
   "cell_type": "code",
   "execution_count": 0,
   "metadata": {
    "application/vnd.databricks.v1+cell": {
     "cellMetadata": {},
     "inputWidgets": {},
     "nuid": "34f32376-9967-47eb-892a-dd2f2c79202a",
     "showTitle": false,
     "tableResultSettingsMap": {},
     "title": ""
    }
   },
   "outputs": [],
   "source": [
    "hourly_purchase_rate = spark.read.format(\"delta\").load(f\"{schema_path}/gold/purchase_count\")\n",
    "click_ratio = spark.read.foramt(\"delta\").load(f\"{schema_path}/gold/click_ratio\")\n",
    "cart_ratio = spark.read.foramt(\"delta\").load(f\"{schema_path}/gold/cart_ratio\")"
   ]
  },
  {
   "cell_type": "code",
   "execution_count": 0,
   "metadata": {
    "application/vnd.databricks.v1+cell": {
     "cellMetadata": {},
     "inputWidgets": {},
     "nuid": "d143498a-2b1f-4f5e-ac7b-4d0552153611",
     "showTitle": false,
     "tableResultSettingsMap": {},
     "title": ""
    }
   },
   "outputs": [],
   "source": [
    "adjustment_factor = cart_ratio.join(click_ratio, [\"pin_code\", \"product_id\", \"hour_of_day\"], \"inner\")\\\n",
    "    .withColumn(\"adjustment_factor\",\n",
    "                1 + (0.7*(cart_ratio.cart_ratio-1)) + (0.3 * (click_ratio.click_ratio - 1)))"
   ]
  },
  {
   "cell_type": "code",
   "execution_count": 0,
   "metadata": {
    "application/vnd.databricks.v1+cell": {
     "cellMetadata": {},
     "inputWidgets": {},
     "nuid": "ac595434-8259-4b1e-b1a9-53791bdff59f",
     "showTitle": false,
     "tableResultSettingsMap": {},
     "title": ""
    }
   },
   "outputs": [],
   "source": [
    "product_forcast_next_24_hour = hourly_purchase_rate\\\n",
    "    .join(adjustment_factor,[\"pin_code\", \"product_id\", \"hour_of_day\"], \"left\")\\\n",
    "    .withColumn(\"forcasted_count\", \n",
    "                weighted_hourly_avg_purchase_next_24_hour.weighted_avg_purchase * F.coalesce(adjustment_factor.adjustment_factor, F.lit(1.0)))"
   ]
  },
  {
   "cell_type": "code",
   "execution_count": 0,
   "metadata": {
    "application/vnd.databricks.v1+cell": {
     "cellMetadata": {},
     "inputWidgets": {},
     "nuid": "a32b8774-0abc-4196-8474-a91cd2fb6afa",
     "showTitle": false,
     "tableResultSettingsMap": {},
     "title": ""
    }
   },
   "outputs": [],
   "source": [
    "product_forcast_next_24_hour.show(truncate=False)"
   ]
  }
 ],
 "metadata": {
  "application/vnd.databricks.v1+notebook": {
   "computePreferences": null,
   "dashboards": [],
   "environmentMetadata": {
    "base_environment": "",
    "environment_version": "1"
   },
   "inputWidgetPreferences": null,
   "language": "python",
   "notebookMetadata": {
    "pythonIndentUnit": 4
   },
   "notebookName": "analytics layer",
   "widgets": {}
  }
 },
 "nbformat": 4,
 "nbformat_minor": 0
}