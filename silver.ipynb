{
 "cells": [
  {
   "cell_type": "code",
   "execution_count": 0,
   "metadata": {
    "application/vnd.databricks.v1+cell": {
     "cellMetadata": {
      "byteLimit": 2048000,
      "rowLimit": 10000
     },
     "inputWidgets": {},
     "nuid": "7d631215-b8e7-4287-b45b-92b93e0bda21",
     "showTitle": false,
     "tableResultSettingsMap": {},
     "title": ""
    }
   },
   "outputs": [],
   "source": [
    "from pyspark.sql import functions as F\n",
    "from pyspark.sql.types import StructField, StructType, TimestampType, ArrayType, IntegerType, StringType"
   ]
  },
  {
   "cell_type": "code",
   "execution_count": 0,
   "metadata": {
    "application/vnd.databricks.v1+cell": {
     "cellMetadata": {
      "byteLimit": 2048000,
      "rowLimit": 10000
     },
     "inputWidgets": {},
     "nuid": "fc8c43bb-d874-47e9-ac8f-1de191086197",
     "showTitle": false,
     "tableResultSettingsMap": {},
     "title": ""
    }
   },
   "outputs": [],
   "source": [
    "schema_path = \"dbfs:/FileStore/inventory_analytics\""
   ]
  },
  {
   "cell_type": "code",
   "execution_count": 0,
   "metadata": {
    "application/vnd.databricks.v1+cell": {
     "cellMetadata": {
      "byteLimit": 2048000,
      "rowLimit": 10000
     },
     "inputWidgets": {},
     "nuid": "676586c8-7a31-4f86-8597-e5b2b728d9e2",
     "showTitle": false,
     "tableResultSettingsMap": {},
     "title": ""
    }
   },
   "outputs": [],
   "source": [
    "click_temp_schema = StructType(\n",
    "    [\n",
    "        StructField(\"timestamp\", TimestampType(), False),\n",
    "        StructField(\"user_id\", IntegerType(), False),\n",
    "        StructField(\"product_id\", StringType(), False),\n",
    "        StructField(\"pin_code\", IntegerType(), False)  \n",
    "    ]\n",
    ")\n",
    "click_schema = ArrayType(click_temp_schema)\n",
    "\n",
    "purchase_temp_schema = StructType(\n",
    "    [\n",
    "        StructField(\"timestamp\", TimestampType(), False),\n",
    "        StructField(\"user_id\", IntegerType(), False),\n",
    "        StructField(\"product_id\", StringType(), False),\n",
    "        StructField(\"pin_code\", IntegerType(), False),\n",
    "        StructField(\"item_count\", IntegerType(), False),\n",
    "        StructField(\"event\", StringType(), False)    \n",
    "    ]\n",
    ")\n",
    "purchase_schema = ArrayType(purchase_temp_schema)\n",
    "\n",
    "cart_temp_schema = StructType(\n",
    "    [\n",
    "        StructField(\"timestamp\", TimestampType(), False),\n",
    "        StructField(\"user_id\", IntegerType(), False),\n",
    "        StructField(\"product_id\", StringType(), False),\n",
    "        StructField(\"pin_code\", IntegerType(), False)    \n",
    "    ]\n",
    ")\n",
    "cart_schema = ArrayType(cart_temp_schema)"
   ]
  },
  {
   "cell_type": "code",
   "execution_count": 0,
   "metadata": {
    "application/vnd.databricks.v1+cell": {
     "cellMetadata": {
      "byteLimit": 2048000,
      "rowLimit": 10000
     },
     "inputWidgets": {},
     "nuid": "1732ae24-9815-460f-bae6-1d54f3d3065a",
     "showTitle": false,
     "tableResultSettingsMap": {},
     "title": ""
    }
   },
   "outputs": [],
   "source": [
    "\n",
    "click_df = spark.read.format(\"parquet\").option(\"path\", f\"{schema_path}/broze/product_click/\").load()\n",
    "cleaned_click_df = click_df.selectExpr(\"cast(value as string) as click_event\")\\\n",
    "    .withColumn(\"click_event\", F.from_json(\"click_event\", click_schema).alias(\"click_event\"))\\\n",
    "    .withColumn(\"click_event\", F.explode(\"click_event\").alias(\"click_event\"))\\\n",
    "    .selectExpr(\"click_event.*\")\\\n",
    "    .dropna(subset=[\"timestamp\", \"product_id\"])\n",
    "\n",
    "cleaned_click_df.write.format(\"delta\").save(f\"{schema_path}/silver/product_click/\")"
   ]
  },
  {
   "cell_type": "code",
   "execution_count": 0,
   "metadata": {
    "application/vnd.databricks.v1+cell": {
     "cellMetadata": {
      "byteLimit": 2048000,
      "rowLimit": 10000
     },
     "inputWidgets": {},
     "nuid": "07346894-5a63-4b82-9408-df25616fa049",
     "showTitle": false,
     "tableResultSettingsMap": {},
     "title": ""
    }
   },
   "outputs": [],
   "source": [
    "\n",
    "cart_df = spark.read.format(\"parquet\").option(\"path\", f\"{schema_path}/bronze/product_cart/\").load()\n",
    "cleaned_cart_df = cart_df.selectExpr(\"cast(value as string) as cart_event\")\\\n",
    "    .withColumn(\"cart_event\", F.from_json(\"cart_event\", cart_schema).alias(\"cart_event\"))\\\n",
    "    .withColumn(\"cart_event\", F.explode(\"cart_event\").alias(\"cart_event\"))\\\n",
    "    .selectExpr(\"cart_event.*\")\\\n",
    "    .dropna(subset=[\"timestamp\", \"product_id\"])\n",
    "cleaned_cart_df.write.format(\"delta\").option(\"overwrite\", True).save(f\"{schema_path}/silver/product_cart/\")\n",
    "    "
   ]
  },
  {
   "cell_type": "code",
   "execution_count": 0,
   "metadata": {
    "application/vnd.databricks.v1+cell": {
     "cellMetadata": {
      "byteLimit": 2048000,
      "rowLimit": 10000
     },
     "inputWidgets": {},
     "nuid": "77a7c5ba-dbc4-4f56-853e-b8ac5a22c29e",
     "showTitle": false,
     "tableResultSettingsMap": {},
     "title": ""
    }
   },
   "outputs": [],
   "source": [
    "\n",
    "purchase_df = spark.read.format(\"parquet\").option(\"path\", f\"{schema_path}/bronze/product_purchase/\").load()\n",
    "cleaned_purchase_df = purchase_df.selectExpr(\"cast(value as string) as purchase_event\")\\\n",
    "    .withColumn(\"purchase_event\", F.from_json(\"purchase_event\", purchase_schema).alias(\"purchase_event\"))\\\n",
    "    .withColumn(\"purchase_event\", F.explode(\"purchase_event\").alias(\"purchase_event\"))\\\n",
    "    .selectExpr(\"purchase_event.*\")\\\n",
    "    .dropna(subset=[\"timestamp\", \"product_id\"])\n",
    "cleaned_purchase_df.write.format(\"delta\").save(f\"{schema_path}/silver/product_purchase/\")\n",
    "    "
   ]
  }
 ],
 "metadata": {
  "application/vnd.databricks.v1+notebook": {
   "computePreferences": null,
   "dashboards": [],
   "environmentMetadata": {
    "base_environment": "",
    "environment_version": "1"
   },
   "inputWidgetPreferences": null,
   "language": "python",
   "notebookMetadata": {
    "mostRecentlyExecutedCommandWithImplicitDF": {
     "commandId": 3950750443040475,
     "dataframes": [
      "_sqldf"
     ]
    },
    "pythonIndentUnit": 4
   },
   "notebookName": "silver",
   "widgets": {}
  }
 },
 "nbformat": 4,
 "nbformat_minor": 0
}